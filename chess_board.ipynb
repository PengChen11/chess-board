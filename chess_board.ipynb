{
 "cells": [
  {
   "cell_type": "markdown",
   "metadata": {},
   "source": [
    "# Chess board lab with numpy and Jupyter"
   ]
  },
  {
   "cell_type": "code",
   "execution_count": 2,
   "metadata": {},
   "outputs": [],
   "source": [
    "# import needed liberies.\n",
    "import numpy as np\n",
    "import matplotlib.pyplot as plt"
   ]
  },
  {
   "cell_type": "code",
   "execution_count": 3,
   "metadata": {},
   "outputs": [],
   "source": [
    "class ChessBoard:\n",
    "    \n",
    "    def __init__(self):\n",
    "        self.grid = self.grid_init()\n",
    "        self.red_color = None\n",
    "        self.blue_color = None\n",
    "        self.red_loc = None\n",
    "        self.blue_loc = None\n",
    "        \n",
    "    def grid_init(self):\n",
    "        \"\"\"The function to init the grid \"\"\"\n",
    "        white = (1,1,1)\n",
    "        grid_init = np.zeros((8,8,3))\n",
    "        for i in range(0,8,2):\n",
    "            grid_init[i + 0][::2] = white\n",
    "            grid_init[i + 1][1::2] = white\n",
    "        return grid_init\n",
    "    \n",
    "    def add_red(self, row, col):\n",
    "        \"\"\" function to check location conflex with blue queen before add a red queen;\n",
    "        also restore's grid color before add another red queen\"\"\"\n",
    "        red = (1,0,0)\n",
    "        \n",
    "        if self.red_loc is not None:\n",
    "            self.grid[self.red_loc[0],self.red_loc[1]] =self.red_color\n",
    "        \n",
    "        self.red_loc = np.array([row,col])\n",
    "        assert (not np.array_equal(self.blue_loc, self.red_loc)),\"Red Queen location can't overlap with the blue Queen\"\n",
    "        self.red_color = np.array(self.grid[row,col])\n",
    "        self.grid[row,col] = red\n",
    "        self.render()\n",
    "        \n",
    "    \n",
    "       \n",
    "    def add_blue(self, row, col):\n",
    "        \"\"\"the function to check location conflex with red queen before add a blue queen;\n",
    "        also restore's grid color before add another blue queen\"\"\"\n",
    "        blue = (0,0,1)\n",
    "        if self.blue_loc is not None:\n",
    "            self.grid[self.blue_loc[0],self.blue_loc[1]] =self.blue_color\n",
    "        self.blue_loc = np.array([row,col])\n",
    "        assert (not np.array_equal(self.blue_loc, self.red_loc)),\"Blue Queen location can't overlap with the red Queen\"\n",
    "        self.blue_color = np.array(self.grid[row,col])\n",
    "        \n",
    "        self.grid[row,col] = blue\n",
    "        self.render()\n",
    "\n",
    "    def render(self):\n",
    "        \"\"\"function to reder the chess board\"\"\"\n",
    "        plt.imshow(self.grid)\n",
    "        \n",
    "    def is_under_attack(self):\n",
    "        \"\"\"function to check whether red queen is under attack\"\"\"\n",
    "        if self.red_loc is None or self.blue_loc is None:\n",
    "            raise Exception(\"No Queen is found\")\n",
    "        elif self.red_loc[0]==self.blue_loc[0] or self.red_loc[1]==self.blue_loc[1] or (abs(self.red_loc[0]-self.blue_loc[0])==abs(self.red_loc[1]-self.blue_loc[1])):\n",
    "            return \"the Red Queen is under attack by the blue Queen\"\n",
    "        else: \n",
    "            return \"The Red Queen is not under attack\""
   ]
  },
  {
   "cell_type": "code",
   "execution_count": 10,
   "metadata": {},
   "outputs": [],
   "source": [
    "board = ChessBoard()"
   ]
  },
  {
   "cell_type": "code",
   "execution_count": 11,
   "metadata": {},
   "outputs": [
    {
     "name": "stdout",
     "output_type": "stream",
     "text": [
      "the Red Queen is under attack by the blue Queen\n"
     ]
    },
    {
     "data": {
      "image/png": "[encoded data removed]",
      "text/plain": [
       "<Figure size 432x288 with 1 Axes>"
      ]
     },
     "metadata": {
      "needs_background": "light"
     },
     "output_type": "display_data"
    }
   ],
   "source": [
    "board.add_red(1,7)\n",
    "board.add_blue(2,7)\n",
    "tester_1 = board.is_under_attack()\n",
    "print(tester_1)\n",
    "assert tester_1 == \"the Red Queen is under attack by the blue Queen\""
   ]
  },
  {
   "cell_type": "code",
   "execution_count": 13,
   "metadata": {},
   "outputs": [
    {
     "name": "stdout",
     "output_type": "stream",
     "text": [
      "the Red Queen is under attack by the blue Queen\n"
     ]
    },
    {
     "data": {
      "image/png": "[encoded data removed]",
      "text/plain": [
       "<Figure size 432x288 with 1 Axes>"
      ]
     },
     "metadata": {
      "needs_background": "light"
     },
     "output_type": "display_data"
    }
   ],
   "source": [
    "board.add_red(1,7)\n",
    "board.add_blue(1,1)\n",
    "tester_2 = board.is_under_attack()\n",
    "print(tester_2)\n",
    "assert tester_2 == \"the Red Queen is under attack by the blue Queen\""
   ]
  },
  {
   "cell_type": "code",
   "execution_count": 14,
   "metadata": {},
   "outputs": [
    {
     "name": "stdout",
     "output_type": "stream",
     "text": [
      "the Red Queen is under attack by the blue Queen\n"
     ]
    },
    {
     "data": {
      "image/png": "[encoded data removed]",
      "text/plain": [
       "<Figure size 432x288 with 1 Axes>"
      ]
     },
     "metadata": {
      "needs_background": "light"
     },
     "output_type": "display_data"
    }
   ],
   "source": [
    "board.add_red(1,7)\n",
    "board.add_blue(6,2)\n",
    "tester_3 = board.is_under_attack()\n",
    "print(tester_3)\n",
    "assert tester_3 == \"the Red Queen is under attack by the blue Queen\""
   ]
  },
  {
   "cell_type": "code",
   "execution_count": 15,
   "metadata": {},
   "outputs": [
    {
     "name": "stdout",
     "output_type": "stream",
     "text": [
      "the Red Queen is under attack by the blue Queen\n"
     ]
    },
    {
     "data": {
      "image/png": "[encoded data removed]",
      "text/plain": [
       "<Figure size 432x288 with 1 Axes>"
      ]
     },
     "metadata": {
      "needs_background": "light"
     },
     "output_type": "display_data"
    }
   ],
   "source": [
    "board.add_red(6,7)\n",
    "board.add_blue(1,2)\n",
    "tester_4 = board.is_under_attack()\n",
    "print(tester_4)\n",
    "assert tester_4 == \"the Red Queen is under attack by the blue Queen\""
   ]
  },
  {
   "cell_type": "code",
   "execution_count": 16,
   "metadata": {},
   "outputs": [
    {
     "name": "stdout",
     "output_type": "stream",
     "text": [
      "The Red Queen is not under attack\n"
     ]
    },
    {
     "data": {
      "image/png": "[encoded data removed]",
      "text/plain": [
       "<Figure size 432x288 with 1 Axes>"
      ]
     },
     "metadata": {
      "needs_background": "light"
     },
     "output_type": "display_data"
    }
   ],
   "source": [
    "board.add_red(6,7)\n",
    "board.add_blue(2,2)\n",
    "tester_5 = board.is_under_attack()\n",
    "print(tester_5)\n",
    "assert tester_5 == \"The Red Queen is not under attack\""
   ]
  }
 ],
 "metadata": {
  "kernelspec": {
   "display_name": "Python 3",
   "language": "python",
   "name": "python3"
  },
  "language_info": {
   "codemirror_mode": {
    "name": "ipython",
    "version": 3
   },
   "file_extension": ".py",
   "mimetype": "text/x-python",
   "name": "python",
   "nbconvert_exporter": "python",
   "pygments_lexer": "ipython3",
   "version": "3.8.2"
  }
 },
 "nbformat": 4,
 "nbformat_minor": 4
}
